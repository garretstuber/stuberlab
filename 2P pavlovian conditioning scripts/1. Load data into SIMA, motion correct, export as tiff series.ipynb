{
 "cells": [
  {
   "cell_type": "code",
   "execution_count": 1,
   "metadata": {
    "collapsed": false,
    "scrolled": true
   },
   "outputs": [
    {
     "name": "stdout",
     "output_type": "stream",
     "text": [
      "/Users/jimotis/DATA/W1\n"
     ]
    }
   ],
   "source": [
    "#choose the directory of the data\n",
    "%cd ~/Data/W1"
   ]
  },
  {
   "cell_type": "code",
   "execution_count": 5,
   "metadata": {
    "collapsed": false
   },
   "outputs": [
    {
     "name": "stdout",
     "output_type": "stream",
     "text": [
      "mkdir: /Users/jimotis/DATA/W1: File exists\n",
      "/Users/jimotis/DATA/W1\n"
     ]
    }
   ],
   "source": [
    "#This is for EC2 setup for SIMA\n",
    "%mkdir ~/DATA/W1\n",
    "%cd ~/DATA/W1"
   ]
  },
  {
   "cell_type": "code",
   "execution_count": 3,
   "metadata": {
    "collapsed": true
   },
   "outputs": [],
   "source": [
    "#import sima\n",
    "import sima\n"
   ]
  },
  {
   "cell_type": "code",
   "execution_count": 4,
   "metadata": {
    "collapsed": true
   },
   "outputs": [],
   "source": [
    "import sima.motion\n",
    "\n",
    "import numpy as np"
   ]
  },
  {
   "cell_type": "code",
   "execution_count": 5,
   "metadata": {
    "collapsed": true
   },
   "outputs": [],
   "source": [
    "from sima.motion import HiddenMarkov2D"
   ]
  },
  {
   "cell_type": "code",
   "execution_count": 8,
   "metadata": {
    "collapsed": false
   },
   "outputs": [],
   "source": [
    "#looking for a file\n",
    "sequences = [sima.Sequence.create('TIFF', 'W5.tif')]"
   ]
  },
  {
   "cell_type": "code",
   "execution_count": 10,
   "metadata": {
    "collapsed": false
   },
   "outputs": [
    {
     "data": {
      "text/plain": [
       "[<sima.sequence._Sequence_TIFF_Interleaved at 0x10c1f1650>]"
      ]
     },
     "execution_count": 10,
     "metadata": {},
     "output_type": "execute_result"
    }
   ],
   "source": [
    "sequences"
   ]
  },
  {
   "cell_type": "code",
   "execution_count": 11,
   "metadata": {
    "collapsed": false
   },
   "outputs": [],
   "source": [
    "#generate the sima data file from your loaded data\n",
    "dataset = sima.ImagingDataset(sequences, 'loadeddata.sima')"
   ]
  },
  {
   "cell_type": "code",
   "execution_count": 12,
   "metadata": {
    "collapsed": false
   },
   "outputs": [
    {
     "name": "stderr",
     "output_type": "stream",
     "text": [
      "/Users/jimotis/Library/Python/2.7/lib/python/site-packages/sima/motion/hmm.py:811: UserWarning: No finite observation probabilities.\n",
      "  warnings.warn('No finite observation probabilities.')\n"
     ]
    }
   ],
   "source": [
    "#run the motion correction, default displacements are used, but can change this if it does not look good. \n",
    "#See sima documentation for more details.\n",
    "mc_approach = sima.motion.HiddenMarkov2D(granularity='row', max_displacement=[30, 30], verbose=False)\n",
    "\n",
    "dataset = mc_approach.correct(sequences, 'motioncorrected.sima')"
   ]
  },
  {
   "cell_type": "code",
   "execution_count": 13,
   "metadata": {
    "collapsed": false
   },
   "outputs": [],
   "source": [
    "#use this the load a motion corrected sima object if needed.\n",
    "dataset = sima.ImagingDataset.load('motioncorrected.sima')"
   ]
  },
  {
   "cell_type": "code",
   "execution_count": 14,
   "metadata": {
    "collapsed": false,
    "scrolled": true
   },
   "outputs": [],
   "source": [
    "#if you need to export an average frame, you can use this, also just do it in ImageJ\n",
    "dataset.export_averages(['avgs.tif'], fmt='TIFF16')"
   ]
  },
  {
   "cell_type": "code",
   "execution_count": 14,
   "metadata": {
    "collapsed": false
   },
   "outputs": [
    {
     "data": {
      "text/plain": [
       "<sima.motion.hmm.HiddenMarkov2D at 0x10b698f50>"
      ]
     },
     "execution_count": 14,
     "metadata": {},
     "output_type": "execute_result"
    }
   ],
   "source": [
    "mc_approach"
   ]
  },
  {
   "cell_type": "code",
   "execution_count": 15,
   "metadata": {
    "collapsed": true
   },
   "outputs": [],
   "source": [
    "#export your motion corrected data as a tiff stack to use in imageJ\n",
    "dataset.export_frames([[['data_mc.tif']]], fmt='TIFF16')"
   ]
  },
  {
   "cell_type": "code",
   "execution_count": null,
   "metadata": {
    "collapsed": true
   },
   "outputs": [],
   "source": []
  }
 ],
 "metadata": {
  "kernelspec": {
   "display_name": "Python 2",
   "language": "python",
   "name": "python2"
  },
  "language_info": {
   "codemirror_mode": {
    "name": "ipython",
    "version": 2
   },
   "file_extension": ".py",
   "mimetype": "text/x-python",
   "name": "python",
   "nbconvert_exporter": "python",
   "pygments_lexer": "ipython2",
   "version": "2.7.10"
  }
 },
 "nbformat": 4,
 "nbformat_minor": 0
}
